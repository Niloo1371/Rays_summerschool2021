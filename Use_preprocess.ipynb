{
 "cells": [
  {
   "cell_type": "code",
   "execution_count": 1,
   "metadata": {},
   "outputs": [],
   "source": [
    "import os\n",
    "\n",
    "import numpy as np\n",
    "import cv2\n",
    "import matplotlib.pyplot as plt\n",
    "\n",
    "from scipy import signal\n",
    "\n",
    "from droplets import *\n",
    "from ipywidgets import interact, interactive, fixed, interact_manual\n",
    "import ipywidgets as widgets"
   ]
  },
  {
   "cell_type": "markdown",
   "metadata": {},
   "source": [
    "### DIRECTORY LOOP BELOW"
   ]
  },
  {
   "cell_type": "code",
   "execution_count": 2,
   "metadata": {},
   "outputs": [],
   "source": [
    "directories_with_inputs=['/Users/niloo/Documents/imj']\n",
    "dir_for_results = '/Users/niloo/Documents/imjimj_results'"
   ]
  },
  {
   "cell_type": "code",
   "execution_count": 3,
   "metadata": {
    "scrolled": false
   },
   "outputs": [
    {
     "name": "stdout",
     "output_type": "stream",
     "text": [
      "/Users/niloo/Documents/imj:\n",
      "found 3 files\n",
      "sorted\n",
      "/Users/niloo/Documents/imj/44mm_8bar-06292021112658-136.png\n",
      "/Users/niloo/Documents/imj/imj_results\n"
     ]
    },
    {
     "ename": "error",
     "evalue": "OpenCV(4.1.2) /Users/travis/build/skvark/opencv-python/opencv/modules/imgproc/src/color.cpp:182: error: (-215:Assertion failed) !_src.empty() in function 'cvtColor'\n",
     "output_type": "error",
     "traceback": [
      "\u001b[0;31m---------------------------------------------------------------------------\u001b[0m",
      "\u001b[0;31merror\u001b[0m                                     Traceback (most recent call last)",
      "\u001b[0;32m<ipython-input-3-6aed86769f52>\u001b[0m in \u001b[0;36m<module>\u001b[0;34m\u001b[0m\n\u001b[1;32m     30\u001b[0m         \u001b[0;31m#metric,cut=GD_metric(image,d_um=2.2)\u001b[0m\u001b[0;34m\u001b[0m\u001b[0;34m\u001b[0m\u001b[0;34m\u001b[0m\u001b[0m\n\u001b[1;32m     31\u001b[0m         \u001b[0mshow_diagnostics\u001b[0m\u001b[0;34m=\u001b[0m\u001b[0;32mFalse\u001b[0m\u001b[0;34m\u001b[0m\u001b[0;34m\u001b[0m\u001b[0m\n\u001b[0;32m---> 32\u001b[0;31m         \u001b[0mcuts\u001b[0m\u001b[0;34m,\u001b[0m\u001b[0mmetrics\u001b[0m\u001b[0;34m,\u001b[0m\u001b[0mfig\u001b[0m\u001b[0;34m=\u001b[0m\u001b[0mdo_cutouts\u001b[0m\u001b[0;34m(\u001b[0m\u001b[0mfull_path\u001b[0m\u001b[0;34m,\u001b[0m\u001b[0md_um\u001b[0m\u001b[0;34m=\u001b[0m\u001b[0;36m2.2\u001b[0m\u001b[0;34m,\u001b[0m\u001b[0msmallest_size_um2\u001b[0m\u001b[0;34m=\u001b[0m\u001b[0;36m10000\u001b[0m\u001b[0;34m,\u001b[0m\u001b[0mclosing_kernel\u001b[0m\u001b[0;34m=\u001b[0m\u001b[0;36m30\u001b[0m\u001b[0;34m,\u001b[0m\u001b[0mthreshold_fraction\u001b[0m\u001b[0;34m=\u001b[0m\u001b[0;36m0.15\u001b[0m\u001b[0;34m,\u001b[0m\u001b[0mshow_diagnostics\u001b[0m\u001b[0;34m=\u001b[0m\u001b[0mshow_diagnostics\u001b[0m\u001b[0;34m)\u001b[0m\u001b[0;34m\u001b[0m\u001b[0;34m\u001b[0m\u001b[0m\n\u001b[0m\u001b[1;32m     33\u001b[0m \u001b[0;34m\u001b[0m\u001b[0m\n\u001b[1;32m     34\u001b[0m         \u001b[0;31m#Make this True if you want to see the cuts\u001b[0m\u001b[0;34m\u001b[0m\u001b[0;34m\u001b[0m\u001b[0;34m\u001b[0m\u001b[0m\n",
      "\u001b[0;32m~/Desktop/Lab_data/Olof_new_code/Package/droplets.py\u001b[0m in \u001b[0;36mdo_cutouts\u001b[0;34m(path_to_image, threshold_fraction, closing_kernel, smallest_size_um2, d_um, scaling, show_diagnostics)\u001b[0m\n\u001b[1;32m    125\u001b[0m \u001b[0;34m\u001b[0m\u001b[0m\n\u001b[1;32m    126\u001b[0m     \u001b[0;31m#calculate the focus metric\u001b[0m\u001b[0;34m\u001b[0m\u001b[0;34m\u001b[0m\u001b[0;34m\u001b[0m\u001b[0m\n\u001b[0;32m--> 127\u001b[0;31m     \u001b[0mmetric\u001b[0m\u001b[0;34m,\u001b[0m \u001b[0mfiltered\u001b[0m \u001b[0;34m=\u001b[0m \u001b[0mGD_metric\u001b[0m\u001b[0;34m(\u001b[0m\u001b[0mimage\u001b[0m\u001b[0;34m,\u001b[0m\u001b[0md_um\u001b[0m\u001b[0;34m=\u001b[0m\u001b[0md_um\u001b[0m\u001b[0;34m,\u001b[0m\u001b[0mscaling_factor\u001b[0m\u001b[0;34m=\u001b[0m\u001b[0mscaling\u001b[0m\u001b[0;34m)\u001b[0m\u001b[0;34m\u001b[0m\u001b[0;34m\u001b[0m\u001b[0m\n\u001b[0m\u001b[1;32m    128\u001b[0m \u001b[0;34m\u001b[0m\u001b[0m\n\u001b[1;32m    129\u001b[0m     \u001b[0;31m#calcualte the threshold value\u001b[0m\u001b[0;34m\u001b[0m\u001b[0;34m\u001b[0m\u001b[0;34m\u001b[0m\u001b[0m\n",
      "\u001b[0;32m~/Desktop/Lab_data/Olof_new_code/Package/droplets.py\u001b[0m in \u001b[0;36mGD_metric\u001b[0;34m(in_img, d_um, scaling_factor, g_gradient_x, g_gradient_y)\u001b[0m\n\u001b[1;32m     51\u001b[0m     '''\n\u001b[1;32m     52\u001b[0m \u001b[0;34m\u001b[0m\u001b[0m\n\u001b[0;32m---> 53\u001b[0;31m     \u001b[0msrc\u001b[0m \u001b[0;34m=\u001b[0m \u001b[0mcv2\u001b[0m\u001b[0;34m.\u001b[0m\u001b[0mcvtColor\u001b[0m\u001b[0;34m(\u001b[0m\u001b[0min_img\u001b[0m\u001b[0;34m,\u001b[0m \u001b[0mcv2\u001b[0m\u001b[0;34m.\u001b[0m\u001b[0mCOLOR_BGR2GRAY\u001b[0m\u001b[0;34m)\u001b[0m  \u001b[0;31m# grayscale conversion\u001b[0m\u001b[0;34m\u001b[0m\u001b[0;34m\u001b[0m\u001b[0m\n\u001b[0m\u001b[1;32m     54\u001b[0m     \u001b[0;31m# calculate kernel for x\u001b[0m\u001b[0;34m\u001b[0m\u001b[0;34m\u001b[0m\u001b[0;34m\u001b[0m\u001b[0m\n\u001b[1;32m     55\u001b[0m     \u001b[0;32mif\u001b[0m \u001b[0mg_gradient_x\u001b[0m \u001b[0;34m==\u001b[0m \u001b[0;32mNone\u001b[0m\u001b[0;34m:\u001b[0m\u001b[0;34m\u001b[0m\u001b[0;34m\u001b[0m\u001b[0m\n",
      "\u001b[0;31merror\u001b[0m: OpenCV(4.1.2) /Users/travis/build/skvark/opencv-python/opencv/modules/imgproc/src/color.cpp:182: error: (-215:Assertion failed) !_src.empty() in function 'cvtColor'\n"
     ]
    }
   ],
   "source": [
    "cuts=[]\n",
    "metrics=[]\n",
    "\n",
    "for directory_with_input_index, directory_with_input in enumerate(directories_with_inputs):\n",
    "    path_to_files = directory_with_input\n",
    "    path_to_results = '/'.join([dir_for_results, 'Cuts' + directory_with_input])\n",
    "    os.makedirs(path_to_results, exist_ok=True)\n",
    "\n",
    "    path_to_diagnostics = '/'.join([dir_for_results, 'Diagnostics' + directory_with_input])\n",
    "    os.makedirs(path_to_diagnostics, exist_ok=True)\n",
    "    \n",
    "    list_of_files = [my_file for my_file in os.listdir(\n",
    "        path_to_files) if not my_file.startswith('.')]  # to avoid hidden files like .DS_file\n",
    "    print(directory_with_input+':')\n",
    "    print('found {0} files'.format(str(len(list_of_files))))\n",
    "    list_of_files.sort()\n",
    "    print('sorted')\n",
    "\n",
    "    list_of_files_to_do = list_of_files.copy()[0:]\n",
    "\n",
    "    list_of_image_files = []\n",
    "\n",
    "    for file_index, file_name in enumerate(list_of_files_to_do):\n",
    "        full_path=os.path.join(path_to_files,file_name)\n",
    "        #image = cv2.imread(full_path)\n",
    "        \n",
    "        print(full_path)\n",
    "\n",
    "        #temp_file = ImageFile(path_to_files, file_name)\n",
    "        #metric,cut=GD_metric(image,d_um=2.2)\n",
    "        show_diagnostics=False\n",
    "        cuts,metrics,fig=do_cutouts(full_path,d_um=2.2,smallest_size_um2=10000,closing_kernel=30,threshold_fraction=0.15,show_diagnostics=show_diagnostics)\n",
    "        \n",
    "        #Make this True if you want to see the cuts\n",
    "        if False:\n",
    "            for cut_index,cut in enumerate(cuts):\n",
    "                plt.figure()\n",
    "                plt.imshow(cut,cmap='gray',vmin=0,vmax=255)\n",
    "                #plt.colorbar()\n",
    "                plt.title('{0:.0f}'.format(metrics[cut_index]))\n",
    "                \n",
    "        if True:\n",
    "            for cut_index,cut in enumerate(cuts):\n",
    "                cv2.imwrite('{0}/metric_{1:.0f}_cut{2}_{3}'.format(path_to_results,metrics[cut_index],cut_index,file_name),cut)\n",
    "        \n",
    "        if show_diagnostics:\n",
    "            fig.savefig('{0}/diag_{1}'.format(path_to_diagnostics,file_name),format='png')\n",
    "            plt.close(fig)\n",
    "        \n",
    "        #print('{0:.3f}\\t {1}'.format(metric,file_name))"
   ]
  },
  {
   "cell_type": "code",
   "execution_count": null,
   "metadata": {},
   "outputs": [],
   "source": []
  },
  {
   "cell_type": "markdown",
   "metadata": {},
   "source": [
    "##### \n",
    "\n",
    "\n",
    "### WIDGET BELOW"
   ]
  },
  {
   "cell_type": "code",
   "execution_count": 9,
   "metadata": {},
   "outputs": [],
   "source": [
    "#path to file to run widget on\n",
    "file_path='/Users/olofjonsson/Projects/Ice/Droplet_codes/Package/Example_images/255kHz_48ulpermin-06012020122750-15.png'"
   ]
  },
  {
   "cell_type": "code",
   "execution_count": 7,
   "metadata": {},
   "outputs": [
    {
     "data": {
      "application/vnd.jupyter.widget-view+json": {
       "model_id": "2392ca1451eb4823ba96c86353574810",
       "version_major": 2,
       "version_minor": 0
      },
      "text/plain": [
       "interactive(children=(FloatSlider(value=0.15, description='threshold_fraction', max=1.0, min=0.01), IntSlider(…"
      ]
     },
     "metadata": {},
     "output_type": "display_data"
    }
   ],
   "source": [
    "def test_params(path_to_image,\n",
    "               threshold_fraction=0.15,\n",
    "               closing_kernel=30,\n",
    "               smallest_size_um2=10000,\n",
    "               d_um=2.2,\n",
    "               scaling=0.345):\n",
    "    cuts,metrics,fig=do_cutouts(path_to_image=path_to_image,d_um=d_um,closing_kernel=closing_kernel,threshold_fraction=threshold_fraction,scaling=scaling,show_diagnostics=True)\n",
    "    fig.show()\n",
    "\n",
    "\n",
    "_=interact(test_params,path_to_image=fixed(file_path),\n",
    "         d_um=widgets.FloatSlider(min=0.1,max=100,value=2.2),\n",
    "         closing_kernel=widgets.IntSlider(min=1,max=100,value=30),\n",
    "         smallest_size_um2=widgets.FloatSlider(min=1,max=1e6,value=10000),\n",
    "         threshold_fraction=widgets.FloatSlider(min=0.01,max=1,value=0.15),\n",
    "         scaling=fixed(0.345))"
   ]
  },
  {
   "cell_type": "code",
   "execution_count": 7,
   "metadata": {},
   "outputs": [
    {
     "name": "stdout",
     "output_type": "stream",
     "text": [
      "Index([' ', 'Area', 'Mean', 'StdDev', 'Min', 'Max', 'Angle', 'Length'], dtype='object')\n"
     ]
    }
   ],
   "source": [
    "#data = np.loadtxt('/Volumes/harddrive/210511/2mm/2mm_58spacing.csv', skiprows=1)\n",
    "\n",
    "import pandas as pd\n",
    "\n",
    "df = pd.read_excel(\"/Volumes/harddrive/210511/tip_third_series_afteroff/tip_size.xlsx\") \n",
    "df = pd.read_excel(\"/Volumes/harddrive/210511/2mm/2mmsize_58ul.xlsx\") \n",
    "#print the column names\n",
    "print(df.columns)\n",
    "#get the values for a given column\n",
    "size = df['Length'].values"
   ]
  },
  {
   "cell_type": "code",
   "execution_count": 8,
   "metadata": {},
   "outputs": [
    {
     "data": {
      "text/plain": [
       "24.7063"
      ]
     },
     "execution_count": 8,
     "metadata": {},
     "output_type": "execute_result"
    }
   ],
   "source": [
    "np.mean(size)"
   ]
  },
  {
   "cell_type": "code",
   "execution_count": 9,
   "metadata": {},
   "outputs": [
    {
     "data": {
      "text/plain": [
       "0.3246090109654995"
      ]
     },
     "execution_count": 9,
     "metadata": {},
     "output_type": "execute_result"
    }
   ],
   "source": [
    "np.std(size)"
   ]
  },
  {
   "cell_type": "code",
   "execution_count": null,
   "metadata": {},
   "outputs": [],
   "source": []
  }
 ],
 "metadata": {
  "kernelspec": {
   "display_name": "Python 3",
   "language": "python",
   "name": "python3"
  },
  "language_info": {
   "codemirror_mode": {
    "name": "ipython",
    "version": 3
   },
   "file_extension": ".py",
   "mimetype": "text/x-python",
   "name": "python",
   "nbconvert_exporter": "python",
   "pygments_lexer": "ipython3",
   "version": "3.6.8rc1"
  }
 },
 "nbformat": 4,
 "nbformat_minor": 4
}
