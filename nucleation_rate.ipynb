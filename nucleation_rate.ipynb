{
 "cells": [
  {
   "cell_type": "markdown",
   "metadata": {},
   "source": [
    "## This script will calculate the nucleation rate using ice fractions"
   ]
  },
  {
   "cell_type": "code",
   "execution_count": 4,
   "metadata": {},
   "outputs": [],
   "source": [
    "%matplotlib notebook\n",
    "import numpy as np\n",
    "import matplotlib as mpl\n",
    "from matplotlib import pyplot as plt\n",
    "import h5py\n",
    "import pandas as pd\n",
    "import os\n",
    "from scipy.interpolate import griddata\n",
    "from scipy.interpolate import interp2d\n",
    "from scipy.interpolate import RegularGridInterpolator"
   ]
  },
  {
   "cell_type": "code",
   "execution_count": 5,
   "metadata": {},
   "outputs": [],
   "source": [
    "def read_hdf5(path, filename):\n",
    "    f = h5py.File('{0}/{1}'.format(path, filename), 'r')\n",
    "    return f['data']['time'], f['data']['Tave']\n",
    "\n",
    "def T_at_distance(distance, velocity, droplet_size, T_function):\n",
    "    '''Distance in m, velocity in m/s, droplet_size is diameter in micrometer'''\n",
    "    time = np.divide(distance, velocity)\n",
    "    temperature = T_function([droplet_size, time], method='linear')\n",
    "    return temperature\n",
    "\n",
    "def T_at_time(time, droplet_size, T_function):\n",
    "    '''Time in s, droplet_size is diameter in micrometer'''\n",
    "    temperature = T_function([droplet_size, time], method='linear')\n",
    "    return temperature\n",
    "\n",
    "\n",
    "#These are the sizes that are in the folder of hdf5 files. Must have the same timesteps\n",
    "sizes = [3, 5, 10, 12, 15, 16, 17, 18, 19, 20, 21, 22, 23, 24, 25, 26, 27]\n",
    "\n",
    "#sizes is the x \n",
    "x = sizes\n",
    "\n",
    "# y is the timesteps, and this is taken from the file t_calib_22.h5\n",
    "time, _ = read_hdf5('/Volumes/harddrive/codes_rays/temperature_calib/', 't_calib_18.h5')\n",
    "y = list(time[:])  \n",
    "\n",
    "#Create an empy matrix with the size of the sizes and times\n",
    "temperatures = np.zeros([len(x), len(y)])\n",
    "\n",
    "#Filling the matrix with actual values measured.\n",
    "for size_index, size_value in enumerate(sizes):\n",
    "    _, temperatures[size_index] = read_hdf5(\n",
    "        '/Volumes/harddrive/codes_rays/temperature_calib/', 't_calib_{0}.h5'.format(size_value))\n",
    "\n",
    "# This is a function returned by the RegularGridInterpolator\n",
    "#interpolate_T = interp2d(xx, yy, temperatures, kind='linear',bounds_error=True)\n",
    "interpolate_T = RegularGridInterpolator((x, y), temperatures)\n"
   ]
  },
  {
   "cell_type": "code",
   "execution_count": 6,
   "metadata": {},
   "outputs": [],
   "source": [
    "diameter = 25.7*10E-6 #m\n",
    "Volume = (4*np.pi/3)*(diameter/2)**3\n",
    "flow_rate = (68.5*10E-6)/60*10E-3 #l/s\n",
    "actual_frequency = flow_rate/Volume\n",
    "spacing = 95.7*10E-6 #m\n",
    "velocity = spacing * actual_frequency #m/s\n",
    "distance = np.array([10,20,30,35,40,45,50,55,60])#mm\n",
    "time = distance*10**-3/velocity #s\n",
    "#temperature = T_at_time(time, 25.7, interpolate_T)\n",
    "temperatures = [T_at_time(x, 25.7, interpolate_T) for x in time]\n",
    "fraction = np.array([0,0,0,0.917431193,1.282051282,1.25,0,2.352941176,25])"
   ]
  },
  {
   "cell_type": "code",
   "execution_count": 10,
   "metadata": {},
   "outputs": [
    {
     "name": "stderr",
     "output_type": "stream",
     "text": [
      "/Library/Frameworks/Python.framework/Versions/3.6/lib/python3.6/site-packages/ipykernel_launcher.py:5: RuntimeWarning: invalid value encountered in log\n",
      "  \"\"\"\n"
     ]
    }
   ],
   "source": [
    "# calculate J (nucleation)\n",
    "J = np.zeros(len(distance)-1)\n",
    "for k in range(len(fraction)):\n",
    "    if k!=0:\n",
    "        J[k-1]= -np.log((1-fraction[k])/(1-fraction[k-1]))/((time[k]-time[k-1])*Volume)\n",
    "temperature_shifted = [np.average([temperatures[n+1],temperatures[n]]) for n in range(len(temperatures)-1)]"
   ]
  },
  {
   "cell_type": "code",
   "execution_count": null,
   "metadata": {},
   "outputs": [],
   "source": []
  }
 ],
 "metadata": {
  "kernelspec": {
   "display_name": "Python 3",
   "language": "python",
   "name": "python3"
  },
  "language_info": {
   "codemirror_mode": {
    "name": "ipython",
    "version": 3
   },
   "file_extension": ".py",
   "mimetype": "text/x-python",
   "name": "python",
   "nbconvert_exporter": "python",
   "pygments_lexer": "ipython3",
   "version": "3.6.8rc1"
  }
 },
 "nbformat": 4,
 "nbformat_minor": 2
}
